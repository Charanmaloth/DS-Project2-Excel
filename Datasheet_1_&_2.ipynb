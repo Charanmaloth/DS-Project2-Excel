{
  "nbformat": 4,
  "nbformat_minor": 0,
  "metadata": {
    "colab": {
      "provenance": [],
      "include_colab_link": true
    },
    "kernelspec": {
      "name": "python3",
      "display_name": "Python 3"
    },
    "language_info": {
      "name": "python"
    }
  },
  "cells": [
    {
      "cell_type": "markdown",
      "metadata": {
        "id": "view-in-github",
        "colab_type": "text"
      },
      "source": [
        "<a href=\"https://colab.research.google.com/github/Charanmaloth/DS-Project2-Python/blob/main/Datasheet_1_%26_2.ipynb\" target=\"_parent\"><img src=\"https://colab.research.google.com/assets/colab-badge.svg\" alt=\"Open In Colab\"/></a>"
      ]
    },
    {
      "cell_type": "code",
      "source": [
        "!git clone https://github.com/Charanmaloth/DS-Project2-Python.git"
      ],
      "metadata": {
        "colab": {
          "base_uri": "https://localhost:8080/"
        },
        "id": "tPSXdCV4u3Ec",
        "outputId": "15f6d78b-b0cf-4eb1-cf09-fcb7d852f30d"
      },
      "execution_count": 2,
      "outputs": [
        {
          "output_type": "stream",
          "name": "stdout",
          "text": [
            "fatal: destination path 'DS-Project2-Python' already exists and is not an empty directory.\n"
          ]
        }
      ]
    },
    {
      "cell_type": "code",
      "source": [
        "!pip install geopandas"
      ],
      "metadata": {
        "id": "6Clr3dCau_4y",
        "colab": {
          "base_uri": "https://localhost:8080/"
        },
        "outputId": "da224f36-26cb-4496-9e50-6497f3c7778c"
      },
      "execution_count": 3,
      "outputs": [
        {
          "output_type": "stream",
          "name": "stdout",
          "text": [
            "Requirement already satisfied: geopandas in /usr/local/lib/python3.10/dist-packages (0.13.2)\n",
            "Requirement already satisfied: fiona>=1.8.19 in /usr/local/lib/python3.10/dist-packages (from geopandas) (1.9.6)\n",
            "Requirement already satisfied: packaging in /usr/local/lib/python3.10/dist-packages (from geopandas) (24.1)\n",
            "Requirement already satisfied: pandas>=1.1.0 in /usr/local/lib/python3.10/dist-packages (from geopandas) (2.0.3)\n",
            "Requirement already satisfied: pyproj>=3.0.1 in /usr/local/lib/python3.10/dist-packages (from geopandas) (3.6.1)\n",
            "Requirement already satisfied: shapely>=1.7.1 in /usr/local/lib/python3.10/dist-packages (from geopandas) (2.0.4)\n",
            "Requirement already satisfied: attrs>=19.2.0 in /usr/local/lib/python3.10/dist-packages (from fiona>=1.8.19->geopandas) (23.2.0)\n",
            "Requirement already satisfied: certifi in /usr/local/lib/python3.10/dist-packages (from fiona>=1.8.19->geopandas) (2024.6.2)\n",
            "Requirement already satisfied: click~=8.0 in /usr/local/lib/python3.10/dist-packages (from fiona>=1.8.19->geopandas) (8.1.7)\n",
            "Requirement already satisfied: click-plugins>=1.0 in /usr/local/lib/python3.10/dist-packages (from fiona>=1.8.19->geopandas) (1.1.1)\n",
            "Requirement already satisfied: cligj>=0.5 in /usr/local/lib/python3.10/dist-packages (from fiona>=1.8.19->geopandas) (0.7.2)\n",
            "Requirement already satisfied: six in /usr/local/lib/python3.10/dist-packages (from fiona>=1.8.19->geopandas) (1.16.0)\n",
            "Requirement already satisfied: python-dateutil>=2.8.2 in /usr/local/lib/python3.10/dist-packages (from pandas>=1.1.0->geopandas) (2.8.2)\n",
            "Requirement already satisfied: pytz>=2020.1 in /usr/local/lib/python3.10/dist-packages (from pandas>=1.1.0->geopandas) (2023.4)\n",
            "Requirement already satisfied: tzdata>=2022.1 in /usr/local/lib/python3.10/dist-packages (from pandas>=1.1.0->geopandas) (2024.1)\n",
            "Requirement already satisfied: numpy>=1.21.0 in /usr/local/lib/python3.10/dist-packages (from pandas>=1.1.0->geopandas) (1.25.2)\n"
          ]
        }
      ]
    },
    {
      "cell_type": "code",
      "execution_count": 4,
      "metadata": {
        "id": "O1dxysMLfdM3"
      },
      "outputs": [],
      "source": [
        "#importing Libraries\n",
        "import pandas as pd\n",
        "import numpy as np"
      ]
    },
    {
      "cell_type": "code",
      "source": [
        "#Read the dataframe\n",
        "df=pd.read_csv(\"Data Cleaning with numpy and pandas - Dataset 1 (1).csv\")"
      ],
      "metadata": {
        "id": "Ie5awvAjf4vS"
      },
      "execution_count": 5,
      "outputs": []
    },
    {
      "cell_type": "code",
      "source": [
        "#Load the dataframe\n",
        "print(df)"
      ],
      "metadata": {
        "colab": {
          "base_uri": "https://localhost:8080/"
        },
        "id": "f6uGm3wUhZzl",
        "outputId": "f45ae6ea-3a19-4d25-c8b0-f7fc84cd5469"
      },
      "execution_count": 6,
      "outputs": [
        {
          "output_type": "stream",
          "name": "stdout",
          "text": [
            "     Age      Salary  Rating       Location  Established Easy Apply\n",
            "0   44.0   $44k-$99k     5.4       India,In         1999       TRUE\n",
            "1   66.0   $55k-$66k     3.5    New York,Ny         2002       TRUE\n",
            "2    NaN   $77k-$89k    -1.0    New York,Ny           -1         -1\n",
            "3   64.0   $44k-$99k     4.4       India In         1988         -1\n",
            "4   25.0   $44k-$99k     6.4  Australia Aus         2002         -1\n",
            "5   44.0   $77k-$89k     1.4       India,In         1999       TRUE\n",
            "6   21.0   $44k-$99k     0.0    New York,Ny           -1         -1\n",
            "7   44.0   $44k-$99k    -1.0  Australia Aus           -1         -1\n",
            "8   35.0   $44k-$99k     5.4    New York,Ny           -1         -1\n",
            "9   22.0   $44k-$99k     7.7       India,In           -1       TRUE\n",
            "10  55.0   $10k-$49k     5.4       India,In         2008       TRUE\n",
            "11  44.0   $10k-$49k     6.7       India,In         2009         -1\n",
            "12   NaN   $44k-$99k     0.0       India,In         1999         -1\n",
            "13  25.0   $44k-$99k    -1.0  Australia Aus         2019       TRUE\n",
            "14  66.0   $44k-$99k     4.0  Australia Aus         2020       TRUE\n",
            "15  44.0  $88k-$101k     3.0  Australia Aus         1999         -1\n",
            "16  19.0   $19k-$40k     4.5       India,In         1984         -1\n",
            "17   NaN   $44k-$99k     5.3    New York,Ny         1943       TRUE\n",
            "18  35.0   $44k-$99k     6.7    New York,Ny         1954       TRUE\n",
            "19  32.0   $44k-$99k     3.3    New York,Ny         1955       TRUE\n",
            "20   NaN   $44k-$99k     5.7    New York,Ny         1944       TRUE\n",
            "21  35.0   $44k-$99k     5.0    New York,Ny         1946         -1\n",
            "22  19.0   $55k-$66k     7.8    New York,Ny         1988       TRUE\n",
            "23   NaN   $44k-$99k     2.4    New York,Ny         1999       TRUE\n",
            "24  13.0   $44k-$99k    -1.0    New York,Ny         1987         -1\n",
            "25  55.0   $44k-$99k     0.0  Australia Aus         1980       TRUE\n",
            "26   NaN   $55k-$66k     NaN       India,In         1934       TRUE\n",
            "27  52.0   $44k-$99k     5.4       India,In         1935         -1\n",
            "28   NaN   $39k-$88k     3.4  Australia Aus         1932         -1\n"
          ]
        }
      ]
    },
    {
      "cell_type": "code",
      "source": [
        "#checking missing values\n",
        "print(df.isnull().sum())"
      ],
      "metadata": {
        "colab": {
          "base_uri": "https://localhost:8080/"
        },
        "id": "UteKZjJBhdJ2",
        "outputId": "28f62906-59df-4a91-92e1-0db0c2b045e6"
      },
      "execution_count": 7,
      "outputs": [
        {
          "output_type": "stream",
          "name": "stdout",
          "text": [
            "Age            7\n",
            "Salary         0\n",
            "Rating         1\n",
            "Location       0\n",
            "Established    0\n",
            "Easy Apply     0\n",
            "dtype: int64\n"
          ]
        }
      ]
    },
    {
      "cell_type": "code",
      "source": [
        "#Replace -1 with Nan for handling\n",
        "df.replace(-1,np.nan, inplace = True)"
      ],
      "metadata": {
        "id": "0dR9ZPAUiYaQ"
      },
      "execution_count": 8,
      "outputs": []
    },
    {
      "cell_type": "code",
      "source": [
        "#Handling for the missing data\n",
        "df['Age'].fillna(df['Age'].median(), inplace = True)"
      ],
      "metadata": {
        "id": "sAITjWKxi9yZ"
      },
      "execution_count": 9,
      "outputs": []
    },
    {
      "cell_type": "code",
      "source": [
        "def convert_salary(s):\n",
        "    if isinstance(s, str):\n",
        "        s = s.replace('$', '').replace('k', '').split('-')\n",
        "        return (int(s[0]) + int(s[1])) / 2\n",
        "    else:\n",
        "        return np.nan"
      ],
      "metadata": {
        "id": "7KQvp9-Jqpvc"
      },
      "execution_count": 10,
      "outputs": []
    },
    {
      "cell_type": "code",
      "source": [
        "df['Salary'] = df['Salary'].apply(convert_salary)\n",
        "df['Salary'].fillna(df['Salary'].mean(), inplace = True)"
      ],
      "metadata": {
        "id": "sSeh5ydcrxrW"
      },
      "execution_count": 11,
      "outputs": []
    },
    {
      "cell_type": "code",
      "source": [
        "print(df[['Salary']])"
      ],
      "metadata": {
        "colab": {
          "base_uri": "https://localhost:8080/"
        },
        "id": "l_ETPWevt2Hm",
        "outputId": "c8b04f29-8e2a-4078-b4d0-e71caa4e5d1d"
      },
      "execution_count": 12,
      "outputs": [
        {
          "output_type": "stream",
          "name": "stdout",
          "text": [
            "    Salary\n",
            "0     71.5\n",
            "1     60.5\n",
            "2     83.0\n",
            "3     71.5\n",
            "4     71.5\n",
            "5     83.0\n",
            "6     71.5\n",
            "7     71.5\n",
            "8     71.5\n",
            "9     71.5\n",
            "10    29.5\n",
            "11    29.5\n",
            "12    71.5\n",
            "13    71.5\n",
            "14    71.5\n",
            "15    94.5\n",
            "16    29.5\n",
            "17    71.5\n",
            "18    71.5\n",
            "19    71.5\n",
            "20    71.5\n",
            "21    71.5\n",
            "22    60.5\n",
            "23    71.5\n",
            "24    71.5\n",
            "25    71.5\n",
            "26    60.5\n",
            "27    71.5\n",
            "28    63.5\n"
          ]
        }
      ]
    },
    {
      "cell_type": "code",
      "source": [
        "df['Rating'].fillna(df['Rating'].median(), inplace = True)"
      ],
      "metadata": {
        "id": "oCeObMYRsmGq"
      },
      "execution_count": 14,
      "outputs": []
    },
    {
      "cell_type": "code",
      "source": [
        "df['Established'].fillna(df['Established'].median(), inplace = True)\n",
        "df['Easy Apply'].fillna(df['Easy Apply'].mode()[0], inplace = True) # replace with False"
      ],
      "metadata": {
        "id": "pgqT18HCsqFJ"
      },
      "execution_count": 15,
      "outputs": []
    },
    {
      "cell_type": "code",
      "source": [
        "print(df)"
      ],
      "metadata": {
        "colab": {
          "base_uri": "https://localhost:8080/"
        },
        "id": "HMhhAslssPXk",
        "outputId": "61b28d6f-e503-4573-88c4-d115a48ebbcd"
      },
      "execution_count": 16,
      "outputs": [
        {
          "output_type": "stream",
          "name": "stdout",
          "text": [
            "     Age  Salary  Rating       Location  Established Easy Apply\n",
            "0   44.0    71.5    5.40       India,In       1999.0       TRUE\n",
            "1   66.0    60.5    3.50    New York,Ny       2002.0       TRUE\n",
            "2   39.5    83.0    4.75    New York,Ny       1988.0         -1\n",
            "3   64.0    71.5    4.40       India In       1988.0         -1\n",
            "4   25.0    71.5    6.40  Australia Aus       2002.0         -1\n",
            "5   44.0    83.0    1.40       India,In       1999.0       TRUE\n",
            "6   21.0    71.5    0.00    New York,Ny       1988.0         -1\n",
            "7   44.0    71.5    4.75  Australia Aus       1988.0         -1\n",
            "8   35.0    71.5    5.40    New York,Ny       1988.0         -1\n",
            "9   22.0    71.5    7.70       India,In       1988.0       TRUE\n",
            "10  55.0    29.5    5.40       India,In       2008.0       TRUE\n",
            "11  44.0    29.5    6.70       India,In       2009.0         -1\n",
            "12  39.5    71.5    0.00       India,In       1999.0         -1\n",
            "13  25.0    71.5    4.75  Australia Aus       2019.0       TRUE\n",
            "14  66.0    71.5    4.00  Australia Aus       2020.0       TRUE\n",
            "15  44.0    94.5    3.00  Australia Aus       1999.0         -1\n",
            "16  19.0    29.5    4.50       India,In       1984.0         -1\n",
            "17  39.5    71.5    5.30    New York,Ny       1943.0       TRUE\n",
            "18  35.0    71.5    6.70    New York,Ny       1954.0       TRUE\n",
            "19  32.0    71.5    3.30    New York,Ny       1955.0       TRUE\n",
            "20  39.5    71.5    5.70    New York,Ny       1944.0       TRUE\n",
            "21  35.0    71.5    5.00    New York,Ny       1946.0         -1\n",
            "22  19.0    60.5    7.80    New York,Ny       1988.0       TRUE\n",
            "23  39.5    71.5    2.40    New York,Ny       1999.0       TRUE\n",
            "24  13.0    71.5    4.75    New York,Ny       1987.0         -1\n",
            "25  55.0    71.5    0.00  Australia Aus       1980.0       TRUE\n",
            "26  39.5    60.5    4.75       India,In       1934.0       TRUE\n",
            "27  52.0    71.5    5.40       India,In       1935.0         -1\n",
            "28  39.5    63.5    3.40  Australia Aus       1932.0         -1\n"
          ]
        }
      ]
    },
    {
      "cell_type": "code",
      "source": [
        "#Datatypes of each Indicator\n",
        "print(df.dtypes)"
      ],
      "metadata": {
        "colab": {
          "base_uri": "https://localhost:8080/"
        },
        "id": "-wymmRE7yNqb",
        "outputId": "6c0a2f4d-4525-4e57-a55b-44b5f425ce77"
      },
      "execution_count": 17,
      "outputs": [
        {
          "output_type": "stream",
          "name": "stdout",
          "text": [
            "Age            float64\n",
            "Salary         float64\n",
            "Rating         float64\n",
            "Location        object\n",
            "Established    float64\n",
            "Easy Apply      object\n",
            "dtype: object\n"
          ]
        }
      ]
    },
    {
      "cell_type": "code",
      "source": [
        "#Align of Datatypes\n",
        "print(df.info())"
      ],
      "metadata": {
        "colab": {
          "base_uri": "https://localhost:8080/"
        },
        "id": "5YVpzRBj0p3Q",
        "outputId": "acb35e76-c2ad-4bcd-c169-dc093afbbb66"
      },
      "execution_count": 18,
      "outputs": [
        {
          "output_type": "stream",
          "name": "stdout",
          "text": [
            "<class 'pandas.core.frame.DataFrame'>\n",
            "RangeIndex: 29 entries, 0 to 28\n",
            "Data columns (total 6 columns):\n",
            " #   Column       Non-Null Count  Dtype  \n",
            "---  ------       --------------  -----  \n",
            " 0   Age          29 non-null     float64\n",
            " 1   Salary       29 non-null     float64\n",
            " 2   Rating       29 non-null     float64\n",
            " 3   Location     29 non-null     object \n",
            " 4   Established  29 non-null     float64\n",
            " 5   Easy Apply   29 non-null     object \n",
            "dtypes: float64(4), object(2)\n",
            "memory usage: 1.5+ KB\n",
            "None\n"
          ]
        }
      ]
    },
    {
      "cell_type": "code",
      "source": [
        "df['Salary'] = df['Salary'].replace({'\\$': '', 'k': '', ',': ''}, regex=True).astype(float)"
      ],
      "metadata": {
        "id": "X6baETaK4Qn6"
      },
      "execution_count": 19,
      "outputs": []
    },
    {
      "cell_type": "code",
      "source": [
        "outliers = {}\n",
        "for col in ['Age', 'Salary', 'Rating']:\n",
        "    Q1 = df[col].quantile(0.25)\n",
        "    Q3 = df[col].quantile(0.75)\n",
        "    IQR = Q3 - Q1\n",
        "    lower_bound = Q1 - 1.5 * IQR\n",
        "    upper_bound = Q3 + 1.5 * IQR\n",
        "    potential_outliers = df[(df[col] < lower_bound) | (df[col] > upper_bound)]\n",
        "    outliers[col] = potential_outliers\n",
        "for col, potential_outliers in outliers.items():\n",
        "    print(f\"\\n{col}:\")\n",
        "    print(potential_outliers)\n"
      ],
      "metadata": {
        "colab": {
          "base_uri": "https://localhost:8080/"
        },
        "id": "-Cb_JmPm41c6",
        "outputId": "5fbfd802-d1aa-4402-8068-c9002f4d342a"
      },
      "execution_count": 20,
      "outputs": [
        {
          "output_type": "stream",
          "name": "stdout",
          "text": [
            "\n",
            "Age:\n",
            "     Age  Salary  Rating       Location  Established Easy Apply\n",
            "1   66.0    60.5    3.50    New York,Ny       2002.0       TRUE\n",
            "3   64.0    71.5    4.40       India In       1988.0         -1\n",
            "14  66.0    71.5    4.00  Australia Aus       2020.0       TRUE\n",
            "24  13.0    71.5    4.75    New York,Ny       1987.0         -1\n",
            "\n",
            "Salary:\n",
            "     Age  Salary  Rating       Location  Established Easy Apply\n",
            "1   66.0    60.5    3.50    New York,Ny       2002.0       TRUE\n",
            "2   39.5    83.0    4.75    New York,Ny       1988.0         -1\n",
            "5   44.0    83.0    1.40       India,In       1999.0       TRUE\n",
            "10  55.0    29.5    5.40       India,In       2008.0       TRUE\n",
            "11  44.0    29.5    6.70       India,In       2009.0         -1\n",
            "15  44.0    94.5    3.00  Australia Aus       1999.0         -1\n",
            "16  19.0    29.5    4.50       India,In       1984.0         -1\n",
            "22  19.0    60.5    7.80    New York,Ny       1988.0       TRUE\n",
            "26  39.5    60.5    4.75       India,In       1934.0       TRUE\n",
            "28  39.5    63.5    3.40  Australia Aus       1932.0         -1\n",
            "\n",
            "Rating:\n",
            "     Age  Salary  Rating       Location  Established Easy Apply\n",
            "6   21.0    71.5     0.0    New York,Ny       1988.0         -1\n",
            "12  39.5    71.5     0.0       India,In       1999.0         -1\n",
            "25  55.0    71.5     0.0  Australia Aus       1980.0       TRUE\n"
          ]
        }
      ]
    },
    {
      "cell_type": "code",
      "source": [
        "def convert(s):\n",
        "  if isinstance(s, str):\n",
        "    s = s.replace('$','').replace('k','').split('-')\n",
        "    s_v = [float(value) for value in s]\n",
        "    return np.mean(s_v)\n",
        "  else:\n",
        "    return s\n"
      ],
      "metadata": {
        "id": "zHIS6c_xeB7S"
      },
      "execution_count": 21,
      "outputs": []
    },
    {
      "cell_type": "code",
      "source": [
        "df['Salary'] = df['Salary'].apply(convert)"
      ],
      "metadata": {
        "id": "LfipKlrIe_2b"
      },
      "execution_count": 22,
      "outputs": []
    },
    {
      "cell_type": "code",
      "source": [
        "print(df['Salary'])"
      ],
      "metadata": {
        "colab": {
          "base_uri": "https://localhost:8080/"
        },
        "id": "ri6KGRHMfVa0",
        "outputId": "3360e60e-0e2e-4632-90ca-468d809a7b02"
      },
      "execution_count": 23,
      "outputs": [
        {
          "output_type": "stream",
          "name": "stdout",
          "text": [
            "0     71.5\n",
            "1     60.5\n",
            "2     83.0\n",
            "3     71.5\n",
            "4     71.5\n",
            "5     83.0\n",
            "6     71.5\n",
            "7     71.5\n",
            "8     71.5\n",
            "9     71.5\n",
            "10    29.5\n",
            "11    29.5\n",
            "12    71.5\n",
            "13    71.5\n",
            "14    71.5\n",
            "15    94.5\n",
            "16    29.5\n",
            "17    71.5\n",
            "18    71.5\n",
            "19    71.5\n",
            "20    71.5\n",
            "21    71.5\n",
            "22    60.5\n",
            "23    71.5\n",
            "24    71.5\n",
            "25    71.5\n",
            "26    60.5\n",
            "27    71.5\n",
            "28    63.5\n",
            "Name: Salary, dtype: float64\n"
          ]
        }
      ]
    },
    {
      "cell_type": "code",
      "source": [
        "#Examine the unique entries in the Location column\n",
        "unique_locations = df['Location'].unique()"
      ],
      "metadata": {
        "id": "P4M6-cr6g7sP"
      },
      "execution_count": 24,
      "outputs": []
    },
    {
      "cell_type": "code",
      "source": [
        "print(unique_locations)"
      ],
      "metadata": {
        "colab": {
          "base_uri": "https://localhost:8080/"
        },
        "id": "I8pZGq2TieJ-",
        "outputId": "0073beea-0d67-4fe4-a8f5-8507634fa5d7"
      },
      "execution_count": 25,
      "outputs": [
        {
          "output_type": "stream",
          "name": "stdout",
          "text": [
            "['India,In' 'New York,Ny' 'India In' 'Australia Aus']\n"
          ]
        }
      ]
    },
    {
      "cell_type": "code",
      "source": [
        "suggest = {\n",
        "    \"India,In\": \"India, IN\",\n",
        "    \"India In\": \"India, IN\",\n",
        "    \"New York,Ny\": \"New York, NY\",\n",
        "    \"Australia Aus\": \"Australia, AUS\"\n",
        "}\n",
        "for original, standard in suggest.items():\n",
        "    print(f\"{original} -> {standard}\")"
      ],
      "metadata": {
        "colab": {
          "base_uri": "https://localhost:8080/"
        },
        "id": "RVTsBwsIijlQ",
        "outputId": "b3b40cd6-d476-455e-d23d-07f2df86a94c"
      },
      "execution_count": 26,
      "outputs": [
        {
          "output_type": "stream",
          "name": "stdout",
          "text": [
            "India,In -> India, IN\n",
            "India In -> India, IN\n",
            "New York,Ny -> New York, NY\n",
            "Australia Aus -> Australia, AUS\n"
          ]
        }
      ]
    },
    {
      "cell_type": "code",
      "source": [
        "df['Location'] = df['Location'].replace(suggest)\n",
        "print(df['Location'].unique())"
      ],
      "metadata": {
        "colab": {
          "base_uri": "https://localhost:8080/"
        },
        "id": "fe4plF9Pj5N2",
        "outputId": "727a2f5a-4ed7-4685-ff18-05cbad144560"
      },
      "execution_count": 27,
      "outputs": [
        {
          "output_type": "stream",
          "name": "stdout",
          "text": [
            "['India, IN' 'New York, NY' 'Australia, AUS']\n"
          ]
        }
      ]
    },
    {
      "cell_type": "code",
      "source": [
        "#check distribution\n",
        "print(df['Established'].describe())"
      ],
      "metadata": {
        "colab": {
          "base_uri": "https://localhost:8080/"
        },
        "id": "xADqfiZIv8oM",
        "outputId": "badd23d3-7ca7-4512-eb59-f529e88fefbf"
      },
      "execution_count": 28,
      "outputs": [
        {
          "output_type": "stream",
          "name": "stdout",
          "text": [
            "count      29.000000\n",
            "mean     1981.551724\n",
            "std        26.409666\n",
            "min      1932.000000\n",
            "25%      1955.000000\n",
            "50%      1988.000000\n",
            "75%      1999.000000\n",
            "max      2020.000000\n",
            "Name: Established, dtype: float64\n"
          ]
        }
      ]
    },
    {
      "cell_type": "code",
      "source": [
        "#Finding missing values\n",
        "df['Established'].fillna(df['Established'].median(), inplace = True)"
      ],
      "metadata": {
        "id": "VaIWSfIVwUlf"
      },
      "execution_count": 29,
      "outputs": []
    },
    {
      "cell_type": "code",
      "source": [
        "print(df['Established'])"
      ],
      "metadata": {
        "colab": {
          "base_uri": "https://localhost:8080/"
        },
        "id": "OJsJkn82wn1w",
        "outputId": "484c5c3f-db5e-453c-f4e1-1d277e18a23c"
      },
      "execution_count": 30,
      "outputs": [
        {
          "output_type": "stream",
          "name": "stdout",
          "text": [
            "0     1999.0\n",
            "1     2002.0\n",
            "2     1988.0\n",
            "3     1988.0\n",
            "4     2002.0\n",
            "5     1999.0\n",
            "6     1988.0\n",
            "7     1988.0\n",
            "8     1988.0\n",
            "9     1988.0\n",
            "10    2008.0\n",
            "11    2009.0\n",
            "12    1999.0\n",
            "13    2019.0\n",
            "14    2020.0\n",
            "15    1999.0\n",
            "16    1984.0\n",
            "17    1943.0\n",
            "18    1954.0\n",
            "19    1955.0\n",
            "20    1944.0\n",
            "21    1946.0\n",
            "22    1988.0\n",
            "23    1999.0\n",
            "24    1987.0\n",
            "25    1980.0\n",
            "26    1934.0\n",
            "27    1935.0\n",
            "28    1932.0\n",
            "Name: Established, dtype: float64\n"
          ]
        }
      ]
    },
    {
      "cell_type": "code",
      "source": [
        "print(df['Easy Apply'].dtype)\n",
        "print(df['Easy Apply'].unique())\n",
        "#replace -1 with Nan\n",
        "df['Easy Apply'].replace(-1, np.nan, inplace=True)"
      ],
      "metadata": {
        "colab": {
          "base_uri": "https://localhost:8080/"
        },
        "id": "wY1DF5ks4KOD",
        "outputId": "d01a055f-ffbd-4b2a-81a2-9ca1ae149d29"
      },
      "execution_count": 31,
      "outputs": [
        {
          "output_type": "stream",
          "name": "stdout",
          "text": [
            "object\n",
            "['TRUE' '-1']\n"
          ]
        }
      ]
    },
    {
      "cell_type": "code",
      "source": [
        "#missing values\n",
        "df['Easy Apply'].fillna(df['Easy Apply'].mode()[0], inplace = True)\n",
        "#convert to boolean\n",
        "df['Easy Apply'] = df['Easy Apply'].astype(bool)\n",
        "print(df['Easy Apply'])"
      ],
      "metadata": {
        "colab": {
          "base_uri": "https://localhost:8080/"
        },
        "id": "6GsWSHJ1GHy2",
        "outputId": "30773400-6f86-477a-c4e2-7411da94ed3e"
      },
      "execution_count": 32,
      "outputs": [
        {
          "output_type": "stream",
          "name": "stdout",
          "text": [
            "0     True\n",
            "1     True\n",
            "2     True\n",
            "3     True\n",
            "4     True\n",
            "5     True\n",
            "6     True\n",
            "7     True\n",
            "8     True\n",
            "9     True\n",
            "10    True\n",
            "11    True\n",
            "12    True\n",
            "13    True\n",
            "14    True\n",
            "15    True\n",
            "16    True\n",
            "17    True\n",
            "18    True\n",
            "19    True\n",
            "20    True\n",
            "21    True\n",
            "22    True\n",
            "23    True\n",
            "24    True\n",
            "25    True\n",
            "26    True\n",
            "27    True\n",
            "28    True\n",
            "Name: Easy Apply, dtype: bool\n"
          ]
        }
      ]
    },
    {
      "cell_type": "code",
      "source": [
        "#description of all values\n",
        "print(df['Rating'].describe())"
      ],
      "metadata": {
        "colab": {
          "base_uri": "https://localhost:8080/"
        },
        "id": "X8YVigp7HUDJ",
        "outputId": "9c0712f6-2bc5-4bb3-cdc0-de8e06dd28b2"
      },
      "execution_count": 33,
      "outputs": [
        {
          "output_type": "stream",
          "name": "stdout",
          "text": [
            "count    29.000000\n",
            "mean      4.363793\n",
            "std       2.076179\n",
            "min       0.000000\n",
            "25%       3.400000\n",
            "50%       4.750000\n",
            "75%       5.400000\n",
            "max       7.800000\n",
            "Name: Rating, dtype: float64\n"
          ]
        }
      ]
    },
    {
      "cell_type": "code",
      "source": [
        "#Finding min and max values\n",
        "print(df['Rating'].min())\n",
        "print(df['Rating'].max())"
      ],
      "metadata": {
        "colab": {
          "base_uri": "https://localhost:8080/"
        },
        "id": "TdJigUA1HeS1",
        "outputId": "14d2ecf6-6841-48f1-dc4b-c34168ff9d80"
      },
      "execution_count": 34,
      "outputs": [
        {
          "output_type": "stream",
          "name": "stdout",
          "text": [
            "0.0\n",
            "7.8\n"
          ]
        }
      ]
    },
    {
      "cell_type": "code",
      "source": [
        "#expected min and max value range\n",
        "s_min, s_max = 1, 5\n",
        "#replace outlier with Nan using boolean indexes\n",
        "df.loc[(df['Rating'] < s_min) | (df['Rating'] > s_max),'Rating']= np.nan\n",
        "#Fill Nan values with mean column\n",
        "df['Rating'].fillna(df['Rating'].mean(), inplace = True)\n",
        "print(df['Rating'])"
      ],
      "metadata": {
        "colab": {
          "base_uri": "https://localhost:8080/"
        },
        "id": "cRnoxHk4H0HF",
        "outputId": "2ba76680-45a1-46f9-a62c-c5ec9010ee6c"
      },
      "execution_count": 35,
      "outputs": [
        {
          "output_type": "stream",
          "name": "stdout",
          "text": [
            "0     3.91\n",
            "1     3.50\n",
            "2     4.75\n",
            "3     4.40\n",
            "4     3.91\n",
            "5     1.40\n",
            "6     3.91\n",
            "7     4.75\n",
            "8     3.91\n",
            "9     3.91\n",
            "10    3.91\n",
            "11    3.91\n",
            "12    3.91\n",
            "13    4.75\n",
            "14    4.00\n",
            "15    3.00\n",
            "16    4.50\n",
            "17    3.91\n",
            "18    3.91\n",
            "19    3.30\n",
            "20    3.91\n",
            "21    5.00\n",
            "22    3.91\n",
            "23    2.40\n",
            "24    4.75\n",
            "25    3.91\n",
            "26    4.75\n",
            "27    3.91\n",
            "28    3.40\n",
            "Name: Rating, dtype: float64\n"
          ]
        }
      ]
    },
    {
      "cell_type": "code",
      "source": [
        "print(df['Age'].describe())"
      ],
      "metadata": {
        "colab": {
          "base_uri": "https://localhost:8080/"
        },
        "id": "k9uDq93HKYH1",
        "outputId": "97ba2f58-1bec-4299-8b02-860572e82749"
      },
      "execution_count": 36,
      "outputs": [
        {
          "output_type": "stream",
          "name": "stdout",
          "text": [
            "count    29.000000\n",
            "mean     39.155172\n",
            "std      13.974533\n",
            "min      13.000000\n",
            "25%      32.000000\n",
            "50%      39.500000\n",
            "75%      44.000000\n",
            "max      66.000000\n",
            "Name: Age, dtype: float64\n"
          ]
        }
      ]
    },
    {
      "cell_type": "code",
      "source": [
        "#check for missing values\n",
        "print(df['Age'].isna().sum())"
      ],
      "metadata": {
        "colab": {
          "base_uri": "https://localhost:8080/"
        },
        "id": "21822bQwL0DH",
        "outputId": "196fa80c-78c9-4d8e-f14f-5eccd015dfaf"
      },
      "execution_count": 37,
      "outputs": [
        {
          "output_type": "stream",
          "name": "stdout",
          "text": [
            "0\n"
          ]
        }
      ]
    },
    {
      "cell_type": "code",
      "source": [
        "#check for outliers using IQR\n",
        "Q1 = df['Age'].quantile(0.25)\n",
        "Q3 = df['Age'].quantile(0.75)\n",
        "IQR = Q3 - Q1\n",
        "lower_bound = Q1 - 1.5 * IQR\n",
        "upper_bound = Q3 + 1.5 * IQR\n",
        "outlier = df[(df['Age'] < lower_bound) | (df['Age'] > upper_bound)]\n",
        "print(outlier['Age'])"
      ],
      "metadata": {
        "colab": {
          "base_uri": "https://localhost:8080/"
        },
        "id": "10Za6O-dMLZg",
        "outputId": "a1f6ce1a-d0c9-48c2-fd8d-e5ee3d6df274"
      },
      "execution_count": 38,
      "outputs": [
        {
          "output_type": "stream",
          "name": "stdout",
          "text": [
            "1     66.0\n",
            "3     64.0\n",
            "14    66.0\n",
            "24    13.0\n",
            "Name: Age, dtype: float64\n"
          ]
        }
      ]
    },
    {
      "cell_type": "code",
      "source": [
        "#Filling missing values\n",
        "df['Age'].fillna(df['Age'].median(), inplace=True)\n",
        "#Handling outliers\n",
        "df.loc[df['Age'] < lower_bound, 'Age'] = lower_bound\n",
        "df.loc[df['Age'] > upper_bound, 'Age'] = upper_bound\n",
        "print(df['Age'])"
      ],
      "metadata": {
        "colab": {
          "base_uri": "https://localhost:8080/"
        },
        "id": "pzWfgFNAN8fX",
        "outputId": "e8d7c8cd-cbcf-41a8-d765-234785e93e3c"
      },
      "execution_count": 39,
      "outputs": [
        {
          "output_type": "stream",
          "name": "stdout",
          "text": [
            "0     44.0\n",
            "1     62.0\n",
            "2     39.5\n",
            "3     62.0\n",
            "4     25.0\n",
            "5     44.0\n",
            "6     21.0\n",
            "7     44.0\n",
            "8     35.0\n",
            "9     22.0\n",
            "10    55.0\n",
            "11    44.0\n",
            "12    39.5\n",
            "13    25.0\n",
            "14    62.0\n",
            "15    44.0\n",
            "16    19.0\n",
            "17    39.5\n",
            "18    35.0\n",
            "19    32.0\n",
            "20    39.5\n",
            "21    35.0\n",
            "22    19.0\n",
            "23    39.5\n",
            "24    14.0\n",
            "25    55.0\n",
            "26    39.5\n",
            "27    52.0\n",
            "28    39.5\n",
            "Name: Age, dtype: float64\n"
          ]
        }
      ]
    },
    {
      "cell_type": "code",
      "source": [
        "print(df['Location'].unique())"
      ],
      "metadata": {
        "colab": {
          "base_uri": "https://localhost:8080/"
        },
        "id": "9cbgFMG3P1Z-",
        "outputId": "d45a0007-d373-4eed-ff4f-2a5199e96784"
      },
      "execution_count": 40,
      "outputs": [
        {
          "output_type": "stream",
          "name": "stdout",
          "text": [
            "['India, IN' 'New York, NY' 'Australia, AUS']\n"
          ]
        }
      ]
    },
    {
      "cell_type": "code",
      "source": [
        "#present year\n",
        "present_year = 2024\n",
        "#To calculate date of birth\n",
        "df['Date_of_Birth'] = present_year - df['Age']"
      ],
      "metadata": {
        "id": "uIv4PXybs6p5"
      },
      "execution_count": 41,
      "outputs": []
    },
    {
      "cell_type": "code",
      "source": [
        "#inconsitencies\n",
        "inconsistent = (df['Date_of_Birth'] > df['Established']) & df['Date_of_Birth'].notnull() & df['Established'].notnull()\n",
        "#inconsistent rows as output\n",
        "inconsistent_rows = df[inconsistent]\n",
        "print(inconsistent_rows[['Age', 'Date_of_Birth', 'Established']])"
      ],
      "metadata": {
        "colab": {
          "base_uri": "https://localhost:8080/"
        },
        "id": "nJ2Si-ULtMQg",
        "outputId": "ad5542e9-124c-4d54-abe9-bd8814d9bb99"
      },
      "execution_count": 42,
      "outputs": [
        {
          "output_type": "stream",
          "name": "stdout",
          "text": [
            "     Age  Date_of_Birth  Established\n",
            "6   21.0         2003.0       1988.0\n",
            "8   35.0         1989.0       1988.0\n",
            "9   22.0         2002.0       1988.0\n",
            "16  19.0         2005.0       1984.0\n",
            "17  39.5         1984.5       1943.0\n",
            "18  35.0         1989.0       1954.0\n",
            "19  32.0         1992.0       1955.0\n",
            "20  39.5         1984.5       1944.0\n",
            "21  35.0         1989.0       1946.0\n",
            "22  19.0         2005.0       1988.0\n",
            "24  14.0         2010.0       1987.0\n",
            "26  39.5         1984.5       1934.0\n",
            "27  52.0         1972.0       1935.0\n",
            "28  39.5         1984.5       1932.0\n"
          ]
        }
      ]
    },
    {
      "cell_type": "code",
      "source": [
        "#no of inconsistent rows\n",
        "no_of_inconsistent = inconsistent_rows.shape[0]\n",
        "#total no of rows\n",
        "total_rows = df.shape[0]\n",
        "print(f\"{no_of_inconsistent} out of {total_rows}\")"
      ],
      "metadata": {
        "colab": {
          "base_uri": "https://localhost:8080/"
        },
        "id": "bIbKxAjQvwL9",
        "outputId": "cc3eff7c-8dd9-4192-907f-d18f0c5d2f59"
      },
      "execution_count": 43,
      "outputs": [
        {
          "output_type": "stream",
          "name": "stdout",
          "text": [
            "14 out of 29\n"
          ]
        }
      ]
    },
    {
      "cell_type": "code",
      "source": [
        "print(df['Easy Apply'])"
      ],
      "metadata": {
        "colab": {
          "base_uri": "https://localhost:8080/"
        },
        "id": "j1zmx4Yax9fA",
        "outputId": "b9ce15af-5450-4018-e05d-76ebb9a18a51"
      },
      "execution_count": 44,
      "outputs": [
        {
          "output_type": "stream",
          "name": "stdout",
          "text": [
            "0     True\n",
            "1     True\n",
            "2     True\n",
            "3     True\n",
            "4     True\n",
            "5     True\n",
            "6     True\n",
            "7     True\n",
            "8     True\n",
            "9     True\n",
            "10    True\n",
            "11    True\n",
            "12    True\n",
            "13    True\n",
            "14    True\n",
            "15    True\n",
            "16    True\n",
            "17    True\n",
            "18    True\n",
            "19    True\n",
            "20    True\n",
            "21    True\n",
            "22    True\n",
            "23    True\n",
            "24    True\n",
            "25    True\n",
            "26    True\n",
            "27    True\n",
            "28    True\n",
            "Name: Easy Apply, dtype: bool\n"
          ]
        }
      ]
    },
    {
      "cell_type": "code",
      "source": [
        "print(df['Location'])"
      ],
      "metadata": {
        "colab": {
          "base_uri": "https://localhost:8080/"
        },
        "id": "NNmO3XlvyzMM",
        "outputId": "e03ffcc6-e085-4462-9dc0-57be8276cc79"
      },
      "execution_count": 45,
      "outputs": [
        {
          "output_type": "stream",
          "name": "stdout",
          "text": [
            "0          India, IN\n",
            "1       New York, NY\n",
            "2       New York, NY\n",
            "3          India, IN\n",
            "4     Australia, AUS\n",
            "5          India, IN\n",
            "6       New York, NY\n",
            "7     Australia, AUS\n",
            "8       New York, NY\n",
            "9          India, IN\n",
            "10         India, IN\n",
            "11         India, IN\n",
            "12         India, IN\n",
            "13    Australia, AUS\n",
            "14    Australia, AUS\n",
            "15    Australia, AUS\n",
            "16         India, IN\n",
            "17      New York, NY\n",
            "18      New York, NY\n",
            "19      New York, NY\n",
            "20      New York, NY\n",
            "21      New York, NY\n",
            "22      New York, NY\n",
            "23      New York, NY\n",
            "24      New York, NY\n",
            "25    Australia, AUS\n",
            "26         India, IN\n",
            "27         India, IN\n",
            "28    Australia, AUS\n",
            "Name: Location, dtype: object\n"
          ]
        }
      ]
    },
    {
      "cell_type": "code",
      "source": [
        "print(df['Location'].unique())"
      ],
      "metadata": {
        "colab": {
          "base_uri": "https://localhost:8080/"
        },
        "id": "7pbB6-gTz4hh",
        "outputId": "659f2587-04e9-4d15-f511-c98453c6160d"
      },
      "execution_count": 46,
      "outputs": [
        {
          "output_type": "stream",
          "name": "stdout",
          "text": [
            "['India, IN' 'New York, NY' 'Australia, AUS']\n"
          ]
        }
      ]
    },
    {
      "cell_type": "code",
      "source": [
        "print(df['Rating'])"
      ],
      "metadata": {
        "colab": {
          "base_uri": "https://localhost:8080/"
        },
        "id": "Nf6F1GrU0J9A",
        "outputId": "7a8320dc-c9a5-43d9-dfbe-b16b9fab9c85"
      },
      "execution_count": 47,
      "outputs": [
        {
          "output_type": "stream",
          "name": "stdout",
          "text": [
            "0     3.91\n",
            "1     3.50\n",
            "2     4.75\n",
            "3     4.40\n",
            "4     3.91\n",
            "5     1.40\n",
            "6     3.91\n",
            "7     4.75\n",
            "8     3.91\n",
            "9     3.91\n",
            "10    3.91\n",
            "11    3.91\n",
            "12    3.91\n",
            "13    4.75\n",
            "14    4.00\n",
            "15    3.00\n",
            "16    4.50\n",
            "17    3.91\n",
            "18    3.91\n",
            "19    3.30\n",
            "20    3.91\n",
            "21    5.00\n",
            "22    3.91\n",
            "23    2.40\n",
            "24    4.75\n",
            "25    3.91\n",
            "26    4.75\n",
            "27    3.91\n",
            "28    3.40\n",
            "Name: Rating, dtype: float64\n"
          ]
        }
      ]
    },
    {
      "cell_type": "code",
      "source": [
        "df = pd.read_csv('Data Cleaning with numpy and pandas - Dataset 2.csv')"
      ],
      "metadata": {
        "id": "JXISy8LA2cOH"
      },
      "execution_count": 48,
      "outputs": []
    },
    {
      "cell_type": "code",
      "source": [
        "print(df)"
      ],
      "metadata": {
        "colab": {
          "base_uri": "https://localhost:8080/"
        },
        "id": "-i79TCDrku0m",
        "outputId": "a017a6e3-c9b6-4e1e-f10a-cb343924fca7"
      },
      "execution_count": 49,
      "outputs": [
        {
          "output_type": "stream",
          "name": "stdout",
          "text": [
            "      order_id  quantity                              item_name  \\\n",
            "0            1         1           Chips and Fresh Tomato Salsa   \n",
            "1            1         1                                   Izze   \n",
            "2            1         1                       Nantucket Nectar   \n",
            "3            1         1  Chips and Tomatillo-Green Chili Salsa   \n",
            "4            2         2                           Chicken Bowl   \n",
            "...        ...       ...                                    ...   \n",
            "4617      1833         1                          Steak Burrito   \n",
            "4618      1833         1                          Steak Burrito   \n",
            "4619      1834         1                     Chicken Salad Bowl   \n",
            "4620      1834         1                     Chicken Salad Bowl   \n",
            "4621      1834         1                     Chicken Salad Bowl   \n",
            "\n",
            "                                     choice_description item_price  \n",
            "0                                                   NaN      $2.39  \n",
            "1                                          [Clementine]      $3.39  \n",
            "2                                               [Apple]      $3.39  \n",
            "3                                                   NaN      $2.39  \n",
            "4     [Tomatillo-Red Chili Salsa (Hot), [Black Beans...     $16.98  \n",
            "...                                                 ...        ...  \n",
            "4617  [Fresh Tomato Salsa, [Rice, Black Beans, Sour ...     $11.75  \n",
            "4618  [Fresh Tomato Salsa, [Rice, Sour Cream, Cheese...     $11.75  \n",
            "4619  [Fresh Tomato Salsa, [Fajita Vegetables, Pinto...     $11.25  \n",
            "4620  [Fresh Tomato Salsa, [Fajita Vegetables, Lettu...      $8.75  \n",
            "4621  [Fresh Tomato Salsa, [Fajita Vegetables, Pinto...      $8.75  \n",
            "\n",
            "[4622 rows x 5 columns]\n"
          ]
        }
      ]
    },
    {
      "cell_type": "code",
      "source": [
        "#finding unique values\n",
        "print(df['quantity'].unique())"
      ],
      "metadata": {
        "colab": {
          "base_uri": "https://localhost:8080/"
        },
        "id": "iZoydTh8kzBF",
        "outputId": "4a1e96af-f556-4078-d1e3-bc7125bf960a"
      },
      "execution_count": 50,
      "outputs": [
        {
          "output_type": "stream",
          "name": "stdout",
          "text": [
            "[ 1  2  3  4  5 15  7  8 10]\n"
          ]
        }
      ]
    },
    {
      "cell_type": "code",
      "source": [
        "#for counting no of values\n",
        "print(df['quantity'].count())"
      ],
      "metadata": {
        "colab": {
          "base_uri": "https://localhost:8080/"
        },
        "id": "d-4eQAiwk5Cu",
        "outputId": "5816450f-8dca-4385-9c06-bd71c4e5792f"
      },
      "execution_count": 51,
      "outputs": [
        {
          "output_type": "stream",
          "name": "stdout",
          "text": [
            "4622\n"
          ]
        }
      ]
    },
    {
      "cell_type": "code",
      "source": [
        "#count quantity of each item\n",
        "print(df['quantity'].value_counts())"
      ],
      "metadata": {
        "colab": {
          "base_uri": "https://localhost:8080/"
        },
        "id": "FarKbqOlk9uZ",
        "outputId": "8ee17367-929a-438b-ecf5-00fa7eeff762"
      },
      "execution_count": 52,
      "outputs": [
        {
          "output_type": "stream",
          "name": "stdout",
          "text": [
            "quantity\n",
            "1     4355\n",
            "2      224\n",
            "3       28\n",
            "4       10\n",
            "5        1\n",
            "15       1\n",
            "7        1\n",
            "8        1\n",
            "10       1\n",
            "Name: count, dtype: int64\n"
          ]
        }
      ]
    },
    {
      "cell_type": "code",
      "source": [
        "print(df['choice_description'].count())\n",
        "#count of each item\n",
        "print(df['choice_description'].value_counts())"
      ],
      "metadata": {
        "colab": {
          "base_uri": "https://localhost:8080/"
        },
        "id": "s0mPzx5qlD_-",
        "outputId": "68e82bd7-df0e-4a60-cde3-ee0cddfb211b"
      },
      "execution_count": 53,
      "outputs": [
        {
          "output_type": "stream",
          "name": "stdout",
          "text": [
            "3376\n",
            "choice_description\n",
            "[Diet Coke]                                                                                                                                      134\n",
            "[Coke]                                                                                                                                           123\n",
            "[Sprite]                                                                                                                                          77\n",
            "[Fresh Tomato Salsa, [Rice, Black Beans, Cheese, Sour Cream, Lettuce]]                                                                            42\n",
            "[Fresh Tomato Salsa, [Rice, Black Beans, Cheese, Sour Cream, Guacamole, Lettuce]]                                                                 40\n",
            "                                                                                                                                                ... \n",
            "[Fresh Tomato Salsa (Mild), [Pinto Beans, Black Beans, Rice, Cheese, Sour Cream, Lettuce]]                                                         1\n",
            "[[Fresh Tomato Salsa (Mild), Roasted Chili Corn Salsa (Medium), Tomatillo-Red Chili Salsa (Hot)], [Pinto Beans, Cheese, Sour Cream, Lettuce]]      1\n",
            "[Fresh Tomato (Mild), [Guacamole, Rice, Black Beans]]                                                                                              1\n",
            "[[Tomatillo-Green Chili Salsa (Medium), Tomatillo-Red Chili Salsa (Hot)], [Black Beans, Rice, Cheese, Lettuce]]                                    1\n",
            "[Tomatillo Green Chili Salsa, [Rice, Fajita Vegetables, Black Beans, Guacamole]]                                                                   1\n",
            "Name: count, Length: 1043, dtype: int64\n"
          ]
        }
      ]
    },
    {
      "cell_type": "code",
      "source": [
        "#most repeated item\n",
        "print(df['choice_description'].value_counts().idxmax())\n",
        "#most repeated items count\n",
        "print(df['choice_description'].value_counts().max())"
      ],
      "metadata": {
        "colab": {
          "base_uri": "https://localhost:8080/"
        },
        "id": "WOochNE7lJcN",
        "outputId": "ce08dd78-e14d-41b6-894b-0387fb63d2fc"
      },
      "execution_count": 54,
      "outputs": [
        {
          "output_type": "stream",
          "name": "stdout",
          "text": [
            "[Diet Coke]\n",
            "134\n"
          ]
        }
      ]
    },
    {
      "cell_type": "code",
      "source": [
        "#total no of items\n",
        "print(df['quantity'].sum())"
      ],
      "metadata": {
        "colab": {
          "base_uri": "https://localhost:8080/"
        },
        "id": "S7JSOYwylOlR",
        "outputId": "ef5b1c23-ec35-409c-cca3-be83bde20923"
      },
      "execution_count": 55,
      "outputs": [
        {
          "output_type": "stream",
          "name": "stdout",
          "text": [
            "4972\n"
          ]
        }
      ]
    },
    {
      "cell_type": "code",
      "source": [
        "#count of unique items\n",
        "print(df['item_name'].nunique())"
      ],
      "metadata": {
        "colab": {
          "base_uri": "https://localhost:8080/"
        },
        "id": "CF2080ZBlSus",
        "outputId": "a24a0699-523c-43b3-b9c2-e5f58b625258"
      },
      "execution_count": 56,
      "outputs": [
        {
          "output_type": "stream",
          "name": "stdout",
          "text": [
            "50\n"
          ]
        }
      ]
    },
    {
      "cell_type": "code",
      "source": [
        "#Total revenue\n",
        "df['item_price'] = df['item_price'].replace({'\\$':''}, regex = True).astype(float)\n",
        "revenue = (df['item_price'] * df['quantity']).sum()\n",
        "print(revenue)"
      ],
      "metadata": {
        "colab": {
          "base_uri": "https://localhost:8080/"
        },
        "id": "f8-vcjSalXds",
        "outputId": "bb17bd50-a4a9-4acc-afeb-e67b01272ce2"
      },
      "execution_count": 57,
      "outputs": [
        {
          "output_type": "stream",
          "name": "stdout",
          "text": [
            "39237.02\n"
          ]
        }
      ]
    },
    {
      "cell_type": "code",
      "source": [
        "#Total orders\n",
        "print(df['order_id'].count())"
      ],
      "metadata": {
        "colab": {
          "base_uri": "https://localhost:8080/"
        },
        "id": "M1TEBKDgldgv",
        "outputId": "b78daaae-95d8-4c8c-eadb-195fa0062c5d"
      },
      "execution_count": 58,
      "outputs": [
        {
          "output_type": "stream",
          "name": "stdout",
          "text": [
            "4622\n"
          ]
        }
      ]
    },
    {
      "cell_type": "code",
      "source": [
        "#Average reveune\n",
        "mean_item = df['item_price'].mean()\n",
        "df['item_price'].fillna(mean_item, inplace = True)\n",
        "print(df['item_price'])"
      ],
      "metadata": {
        "colab": {
          "base_uri": "https://localhost:8080/"
        },
        "id": "6AvybG7YlirZ",
        "outputId": "5853e0e8-8e2e-4c0a-dce2-9fb023fec4d7"
      },
      "execution_count": 59,
      "outputs": [
        {
          "output_type": "stream",
          "name": "stdout",
          "text": [
            "0        2.39\n",
            "1        3.39\n",
            "2        3.39\n",
            "3        2.39\n",
            "4       16.98\n",
            "        ...  \n",
            "4617    11.75\n",
            "4618    11.75\n",
            "4619    11.25\n",
            "4620     8.75\n",
            "4621     8.75\n",
            "Name: item_price, Length: 4622, dtype: float64\n"
          ]
        }
      ]
    },
    {
      "cell_type": "code",
      "source": [
        "#unique items are sold\n",
        "print(df['item_name'].unique())\n",
        "print(df['item_name'].nunique())"
      ],
      "metadata": {
        "colab": {
          "base_uri": "https://localhost:8080/"
        },
        "id": "jqHz9YSzlkbK",
        "outputId": "d96e16ee-319e-44c0-e844-dc8b7054a80b"
      },
      "execution_count": 60,
      "outputs": [
        {
          "output_type": "stream",
          "name": "stdout",
          "text": [
            "['Chips and Fresh Tomato Salsa' 'Izze' 'Nantucket Nectar'\n",
            " 'Chips and Tomatillo-Green Chili Salsa' 'Chicken Bowl' 'Side of Chips'\n",
            " 'Steak Burrito' 'Steak Soft Tacos' 'Chips and Guacamole'\n",
            " 'Chicken Crispy Tacos' 'Chicken Soft Tacos' 'Chicken Burrito'\n",
            " 'Canned Soda' 'Barbacoa Burrito' 'Carnitas Burrito' 'Carnitas Bowl'\n",
            " 'Bottled Water' 'Chips and Tomatillo Green Chili Salsa' 'Barbacoa Bowl'\n",
            " 'Chips' 'Chicken Salad Bowl' 'Steak Bowl' 'Barbacoa Soft Tacos'\n",
            " 'Veggie Burrito' 'Veggie Bowl' 'Steak Crispy Tacos'\n",
            " 'Chips and Tomatillo Red Chili Salsa' 'Barbacoa Crispy Tacos'\n",
            " 'Veggie Salad Bowl' 'Chips and Roasted Chili-Corn Salsa'\n",
            " 'Chips and Roasted Chili Corn Salsa' 'Carnitas Soft Tacos'\n",
            " 'Chicken Salad' 'Canned Soft Drink' 'Steak Salad Bowl'\n",
            " '6 Pack Soft Drink' 'Chips and Tomatillo-Red Chili Salsa' 'Bowl'\n",
            " 'Burrito' 'Crispy Tacos' 'Carnitas Crispy Tacos' 'Steak Salad'\n",
            " 'Chips and Mild Fresh Tomato Salsa' 'Veggie Soft Tacos'\n",
            " 'Carnitas Salad Bowl' 'Barbacoa Salad Bowl' 'Salad' 'Veggie Crispy Tacos'\n",
            " 'Veggie Salad' 'Carnitas Salad']\n",
            "50\n"
          ]
        }
      ]
    }
  ]
}